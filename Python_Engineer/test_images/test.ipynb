{
 "cells": [
  {
   "cell_type": "code",
   "execution_count": 23,
   "metadata": {},
   "outputs": [
    {
     "data": {
      "text/plain": [
       "3"
      ]
     },
     "execution_count": 23,
     "metadata": {},
     "output_type": "execute_result"
    }
   ],
   "source": [
    "import numpy as np   \n",
    "from PIL import Image\n",
    "filename = \"1.jpeg\"\n",
    "shape = (224, 224)\n",
    "mean, std = [0.485, 0.456, 0.406], [0.229, 0.224, 0.225]\n",
    "im = Image.open(filename).convert(\"RGB\") \n",
    "im = im.resize(shape)\n",
    "im = np.array(im, dtype=np.float32)\n",
    "im /= 255.\n",
    "im -= mean\n",
    "im /= std\n",
    "im = np.transpose(im, (2, 0, 1))\n",
    "data = im.tolist()\n",
    "len(data)"
   ]
  },
  {
   "cell_type": "code",
   "execution_count": 4,
   "metadata": {},
   "outputs": [
    {
     "data": {
      "text/plain": [
       "'/Users/chrysostomebeltran/Downloads/Python Engineer/test_images'"
      ]
     },
     "execution_count": 4,
     "metadata": {},
     "output_type": "execute_result"
    }
   ],
   "source": [
    "pwd"
   ]
  },
  {
   "cell_type": "code",
   "execution_count": 5,
   "metadata": {},
   "outputs": [
    {
     "name": "stdout",
     "output_type": "stream",
     "text": [
      "1.jpeg      2.jpeg      3.jpeg      test.ipynb\n"
     ]
    }
   ],
   "source": [
    "ls\n"
   ]
  },
  {
   "cell_type": "code",
   "execution_count": 38,
   "metadata": {},
   "outputs": [
    {
     "name": "stdout",
     "output_type": "stream",
     "text": [
      "[('files', <_io.BufferedReader name='1.jpeg'>), ('files', <_io.BufferedReader name='2.jpeg'>), ('files', <_io.BufferedReader name='3.jpeg'>)]\n",
      "[{'pred_image_1': '/b/beach 48'}, {'pred_image_2': '/m/mountain_snowy 234'}, {'pred_image_3': '/d/dining_room 121'}]\n"
     ]
    }
   ],
   "source": [
    "import requests\n",
    "\n",
    "url = \"http://localhost:8000/predict\"  # Remplacez par l'URL de votre endpoint /predict\n",
    "\n",
    "# Remplacez ces chemins par les chemins de vos images\n",
    "image_paths = [\"1.jpeg\", \"2.jpeg\", \"3.jpeg\"]\n",
    "\n",
    "# Préparer les fichiers pour la requête\n",
    "files = [('files',  open(image_path, 'rb')) for image_path in image_paths]\n",
    "#files = [('files', open('1.jpeg', 'rb')), ('files', open('2.jpeg', 'rb')),('files', open('3.jpeg', 'rb'))]\n",
    "print(files)\n",
    "# Envoyer la requête POST\n",
    "response = requests.post(url, files=files)\n",
    "\n",
    "# Afficher la réponse\n",
    "print(response.json())"
   ]
  },
  {
   "cell_type": "code",
   "execution_count": 11,
   "metadata": {},
   "outputs": [
    {
     "name": "stdout",
     "output_type": "stream",
     "text": [
      "{\"message\":\"Test successful\"}\n"
     ]
    }
   ],
   "source": [
    "url = \"http://localhost:8000/test\" \n",
    "response = requests.get(url)\n",
    "print(response.text)"
   ]
  },
  {
   "cell_type": "code",
   "execution_count": null,
   "metadata": {},
   "outputs": [],
   "source": []
  }
 ],
 "metadata": {
  "kernelspec": {
   "display_name": "yubo-5S3_AKCt-py3.12",
   "language": "python",
   "name": "python3"
  },
  "language_info": {
   "codemirror_mode": {
    "name": "ipython",
    "version": 3
   },
   "file_extension": ".py",
   "mimetype": "text/x-python",
   "name": "python",
   "nbconvert_exporter": "python",
   "pygments_lexer": "ipython3",
   "version": "3.12.0"
  }
 },
 "nbformat": 4,
 "nbformat_minor": 2
}
